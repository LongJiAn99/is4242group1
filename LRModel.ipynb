{
 "cells": [
  {
   "cell_type": "code",
   "execution_count": 1,
   "metadata": {},
   "outputs": [],
   "source": [
    "import pandas as pd\n",
    "import json\n",
    "from sklearn.feature_extraction.text import CountVectorizer\n",
    "from sklearn.linear_model import LogisticRegression\n",
    "import numpy as np\n",
    "from sklearn.metrics import accuracy_score\n",
    "from sklearn.feature_extraction.text import TfidfVectorizer"
   ]
  },
  {
   "cell_type": "code",
   "execution_count": 2,
   "metadata": {},
   "outputs": [],
   "source": [
    "with open('email_training_data.json') as file:\n",
    "    training_data_json = json.load(file)\n",
    "    df_train = pd.DataFrame(training_data_json)\n",
    "\n",
    "with open('email_testing_data.json') as file:\n",
    "    testing_data_json = json.load(file)\n",
    "    df_test = pd.DataFrame(testing_data_json)\n",
    "\n",
    "with open('emaildata.json') as file:\n",
    "    data = json.load(file)\n",
    "    df = pd.DataFrame(data)"
   ]
  },
  {
   "cell_type": "code",
   "execution_count": 3,
   "metadata": {},
   "outputs": [
    {
     "data": {
      "text/plain": [
       "((144,), (144,), (36,), (36,))"
      ]
     },
     "execution_count": 3,
     "metadata": {},
     "output_type": "execute_result"
    }
   ],
   "source": [
    "df_train_y = df_train[['Category']].copy()\n",
    "df_train_X = df_train[['Content']].copy()\n",
    "df_test_y = df_test[['Category']].copy()\n",
    "df_test_X = df_test[['Content']].copy()\n",
    "df_train_y = np.squeeze(df_train_y)\n",
    "df_test_y = np.squeeze(df_test_y)\n",
    "df_train_X = np.squeeze(df_train_X)\n",
    "df_test_X = np.squeeze(df_test_X)\n",
    "df_train_y.shape, df_train_X.shape, df_test_y.shape, df_test_X.shape"
   ]
  },
  {
   "cell_type": "code",
   "execution_count": 4,
   "metadata": {},
   "outputs": [],
   "source": [
    "# from sklearn.model_selection import train_test_split\n",
    "\n",
    "# df_train_X, df_test_X, df_train_y, df_test_y = train_test_split(\n",
    "#     df['Content'], df['Category'], test_size=0.2)"
   ]
  },
  {
   "cell_type": "code",
   "execution_count": 5,
   "metadata": {},
   "outputs": [
    {
     "name": "stdout",
     "output_type": "stream",
     "text": [
      "Accuracy: 0.7222222222222222\n"
     ]
    }
   ],
   "source": [
    "# Use sklearn's CountVectorizer for bags-of-words approach\n",
    "\n",
    "count_vectorizer = CountVectorizer(stop_words='english', max_features=1000, ngram_range=(1, 2))\n",
    "X_train_count = count_vectorizer.fit_transform(df_train_X)\n",
    "X_test_count = count_vectorizer.transform(df_test_X)\n",
    "\n",
    "classifier = LogisticRegression(max_iter=1000)\n",
    "classifier.fit(X_train_count, df_train_y)\n",
    "predictions = classifier.predict(X_test_count)\n",
    "\n",
    "# Evaluate the model\n",
    "accuracy = accuracy_score(df_test_y, predictions)\n",
    "print(f\"Accuracy: {accuracy}\")"
   ]
  },
  {
   "cell_type": "code",
   "execution_count": 6,
   "metadata": {},
   "outputs": [
    {
     "name": "stdout",
     "output_type": "stream",
     "text": [
      "Accuracy: 0.6388888888888888\n"
     ]
    }
   ],
   "source": [
    "# Use sklearn's TFIDVectorizer for bags-of-words approach\n",
    "\n",
    "tfidf_vectorizer = TfidfVectorizer(stop_words = 'english', max_features = 1000, ngram_range = (1,2))\n",
    "X_train_tfidf = tfidf_vectorizer.fit_transform(df_train_X)\n",
    "X_test_tfidf = tfidf_vectorizer.transform(df_test_X)\n",
    "\n",
    "classifier = LogisticRegression(max_iter=1000)\n",
    "classifier.fit(X_train_tfidf, df_train_y)\n",
    "predictions = classifier.predict(X_test_tfidf)\n",
    "\n",
    "# Evaluate the model\n",
    "accuracy = accuracy_score(df_test_y, predictions)\n",
    "print(f\"Accuracy: {accuracy}\")"
   ]
  },
  {
   "cell_type": "code",
   "execution_count": 7,
   "metadata": {},
   "outputs": [
    {
     "name": "stdout",
     "output_type": "stream",
     "text": [
      "Accuracy: 0.75\n"
     ]
    },
    {
     "name": "stderr",
     "output_type": "stream",
     "text": [
      "/Users/longjian/opt/anaconda3/lib/python3.9/site-packages/sklearn/linear_model/_logistic.py:814: ConvergenceWarning: lbfgs failed to converge (status=1):\n",
      "STOP: TOTAL NO. of ITERATIONS REACHED LIMIT.\n",
      "\n",
      "Increase the number of iterations (max_iter) or scale the data as shown in:\n",
      "    https://scikit-learn.org/stable/modules/preprocessing.html\n",
      "Please also refer to the documentation for alternative solver options:\n",
      "    https://scikit-learn.org/stable/modules/linear_model.html#logistic-regression\n",
      "  n_iter_i = _check_optimize_result(\n"
     ]
    }
   ],
   "source": [
    "# Adding text length and word count as features in addition to CountVectorizer based model\n",
    "\n",
    "X_train_count = X_train_count.toarray()\n",
    "X_test_count = X_test_count.toarray()\n",
    "X_train_count = np.concatenate([X_train_count, df_train_X.apply(len).values.reshape(-1, 1), df_train_X.apply(lambda x: len(x.split())).values.reshape(-1, 1)], axis=1)\n",
    "X_test_count = np.concatenate([X_test_count, df_test_X.apply(len).values.reshape(-1, 1), df_test_X.apply(lambda x: len(x.split())).values.reshape(-1, 1)], axis=1)\n",
    "\n",
    "classifier = LogisticRegression(max_iter=1000)\n",
    "classifier.fit(X_train_count, df_train_y)\n",
    "predictions = classifier.predict(X_test_count)\n",
    "\n",
    "# Evaluate the model\n",
    "accuracy = accuracy_score(df_test_y, predictions)\n",
    "print(f\"Accuracy: {accuracy}\")"
   ]
  }
 ],
 "metadata": {
  "kernelspec": {
   "display_name": "base",
   "language": "python",
   "name": "python3"
  },
  "language_info": {
   "codemirror_mode": {
    "name": "ipython",
    "version": 3
   },
   "file_extension": ".py",
   "mimetype": "text/x-python",
   "name": "python",
   "nbconvert_exporter": "python",
   "pygments_lexer": "ipython3",
   "version": "3.9.13"
  }
 },
 "nbformat": 4,
 "nbformat_minor": 2
}
