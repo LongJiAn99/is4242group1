{
 "cells": [
  {
   "cell_type": "code",
   "execution_count": 1,
   "metadata": {},
   "outputs": [
    {
     "name": "stderr",
     "output_type": "stream",
     "text": [
      "[nltk_data] Downloading package punkt to /Users/abigail/nltk_data...\n",
      "[nltk_data]   Package punkt is already up-to-date!\n",
      "[nltk_data] Downloading package stopwords to\n",
      "[nltk_data]     /Users/abigail/nltk_data...\n",
      "[nltk_data]   Package stopwords is already up-to-date!\n",
      "[nltk_data] Downloading package wordnet to /Users/abigail/nltk_data...\n",
      "[nltk_data]   Package wordnet is already up-to-date!\n"
     ]
    },
    {
     "data": {
      "text/plain": [
       "True"
      ]
     },
     "execution_count": 1,
     "metadata": {},
     "output_type": "execute_result"
    }
   ],
   "source": [
    "import json\n",
    "import re\n",
    "import string\n",
    "import nltk\n",
    "from nltk.corpus import stopwords\n",
    "from nltk.tokenize import word_tokenize\n",
    "from nltk.stem import PorterStemmer, WordNetLemmatizer\n",
    "\n",
    "# Download NLTK resources (only needed once)\n",
    "nltk.download('punkt')\n",
    "nltk.download('stopwords')\n",
    "nltk.download('wordnet')"
   ]
  },
  {
   "cell_type": "code",
   "execution_count": 2,
   "metadata": {},
   "outputs": [],
   "source": [
    "# Data Extraction - Train and Test data\n",
    "\n",
    "with open('emaildata.json', 'r') as file:\n",
    "    emaildata_json = json.load(file)\n",
    "\n",
    "# contains the contents of the JSON file as a Python dictionary\n",
    "# print(emaildata_json)"
   ]
  },
  {
   "cell_type": "code",
   "execution_count": 3,
   "metadata": {},
   "outputs": [
    {
     "name": "stdout",
     "output_type": "stream",
     "text": [
      "Preprocessed Text: hello sampl email punctuat stopword html contact\n"
     ]
    }
   ],
   "source": [
    "# Data Pre-Processing - Part 1 (define function)\n",
    "\n",
    "def preprocess_text(text):\n",
    "    # Convert text to lowercase\n",
    "    text = text.lower()\n",
    "    \n",
    "    # Remove email-specific patterns (email addresses, URLs, HTML tags, etc.)\n",
    "    text = re.sub(r'\\b[\\w\\-.]+?@\\w+?\\.\\w{2,4}\\b', '', text)\n",
    "    text = re.sub(r'(http[s]?\\S+)|(\\w+\\.[A-Za-z]{2,4}\\S*)', '', text)\n",
    "    text = re.sub(r'<[^>]*>', '', text)\n",
    "    text = ' '.join([''.join([c for i, c in enumerate(word) if i < 2 or not (c == word[i - 1] == word[i - 2])]) for word in text.split()])\n",
    "\n",
    "    \n",
    "    # Remove punctuation\n",
    "    text = text.translate(str.maketrans('', '', string.punctuation))\n",
    "    \n",
    "    # Tokenization\n",
    "    tokens = word_tokenize(text)\n",
    "    \n",
    "    # Remove stopwords\n",
    "    stop_words = set(stopwords.words('english'))\n",
    "    tokens = [word for word in tokens if word not in stop_words]\n",
    "    \n",
    "    # Stemming\n",
    "    stemmer = PorterStemmer()\n",
    "    tokens = [stemmer.stem(word) for word in tokens]\n",
    "    \n",
    "    # # Lemmatization\n",
    "    # lemmatizer = WordNetLemmatizer()\n",
    "    # tokens = [lemmatizer.lemmatize(word) for word in tokens]\n",
    "    \n",
    "    # Join tokens back into a single string\n",
    "    preprocessed_text = ' '.join(tokens)\n",
    "    \n",
    "    return preprocessed_text\n",
    "\n",
    "# Example usage\n",
    "text = \"Hello! This is a sample email with some punctuation, stopwords, and HTML <tags>. You can contact me at user@example.com\"\n",
    "preprocessed_text = preprocess_text(text)\n",
    "print(\"Preprocessed Text:\", preprocessed_text)\n"
   ]
  },
  {
   "cell_type": "code",
   "execution_count": 4,
   "metadata": {},
   "outputs": [],
   "source": [
    "# Data Pre-Processing - Part 2 (apply to email data)\n",
    "\n",
    "# apply to emaildata_json\n",
    "preprocessed_emails = []\n",
    "for email in emaildata_json:\n",
    "    preprocessed_content = preprocess_text(email['Content'])  # Assuming the email content is stored in the 'Content' field\n",
    "    \n",
    "    # Create a new dictionary with preprocessed content and other fields\n",
    "    preprocessed_email = {\n",
    "        \"Sender Address\": email[\"Sender Address\"],\n",
    "        \"Sender name\": email[\"Sender Name\"],\n",
    "        \"Subject\": email[\"Subject\"],\n",
    "        \"Content\": preprocessed_content,\n",
    "        \"Category\": email[\"Category\"]\n",
    "    }\n",
    "    \n",
    "    preprocessed_emails.append(preprocessed_email)\n"
   ]
  },
  {
   "cell_type": "code",
   "execution_count": 5,
   "metadata": {},
   "outputs": [],
   "source": [
    "# preprocessed_emails"
   ]
  },
  {
   "cell_type": "code",
   "execution_count": 6,
   "metadata": {},
   "outputs": [
    {
     "name": "stdout",
     "output_type": "stream",
     "text": [
      "              precision    recall  f1-score   support\n",
      "\n",
      "   Marketing       1.00      0.17      0.29        12\n",
      "    Personal       0.00      0.00      0.00         3\n",
      "     Updates       0.62      1.00      0.76        21\n",
      "\n",
      "    accuracy                           0.64        36\n",
      "   macro avg       0.54      0.39      0.35        36\n",
      "weighted avg       0.69      0.64      0.54        36\n",
      "\n"
     ]
    },
    {
     "name": "stderr",
     "output_type": "stream",
     "text": [
      "/Users/abigail/.pyenv/versions/3.10.9/lib/python3.10/site-packages/sklearn/metrics/_classification.py:1509: UndefinedMetricWarning: Precision is ill-defined and being set to 0.0 in labels with no predicted samples. Use `zero_division` parameter to control this behavior.\n",
      "  _warn_prf(average, modifier, f\"{metric.capitalize()} is\", len(result))\n",
      "/Users/abigail/.pyenv/versions/3.10.9/lib/python3.10/site-packages/sklearn/metrics/_classification.py:1509: UndefinedMetricWarning: Precision is ill-defined and being set to 0.0 in labels with no predicted samples. Use `zero_division` parameter to control this behavior.\n",
      "  _warn_prf(average, modifier, f\"{metric.capitalize()} is\", len(result))\n",
      "/Users/abigail/.pyenv/versions/3.10.9/lib/python3.10/site-packages/sklearn/metrics/_classification.py:1509: UndefinedMetricWarning: Precision is ill-defined and being set to 0.0 in labels with no predicted samples. Use `zero_division` parameter to control this behavior.\n",
      "  _warn_prf(average, modifier, f\"{metric.capitalize()} is\", len(result))\n"
     ]
    }
   ],
   "source": [
    "from sklearn.feature_extraction.text import TfidfVectorizer\n",
    "from sklearn.model_selection import train_test_split\n",
    "from sklearn.naive_bayes import MultinomialNB\n",
    "from sklearn.metrics import classification_report\n",
    "\n",
    "\n",
    "# Extract features (e.g., Subject and Content) and labels (Category)\n",
    "X = [email['Subject'] + ' ' + email['Content'] for email in preprocessed_emails]\n",
    "y = [email['Category'] for email in preprocessed_emails]\n",
    "\n",
    "# Split the data into training and testing sets\n",
    "train_X, test_X, train_y, test_y = train_test_split(X, y, test_size=0.2, random_state=42)\n",
    "\n",
    "\n",
    "# Vectorize the text data using TF-IDF\n",
    "vectorizer = TfidfVectorizer()\n",
    "X_train_tfidf = vectorizer.fit_transform(train_X)\n",
    "X_test_tfidf = vectorizer.transform(test_X)\n",
    "\n",
    "# Train a Multinomial Naive Bayes classifier\n",
    "clf = MultinomialNB()\n",
    "clf.fit(X_train_tfidf, train_y)\n",
    "\n",
    "# Evaluate the model\n",
    "y_pred = clf.predict(X_test_tfidf)\n",
    "print(classification_report(test_y, y_pred))\n"
   ]
  },
  {
   "cell_type": "code",
   "execution_count": 7,
   "metadata": {},
   "outputs": [
    {
     "name": "stdout",
     "output_type": "stream",
     "text": [
      "Best Parameters: {'alpha': 0.1}\n",
      "              precision    recall  f1-score   support\n",
      "\n",
      "   Marketing       0.73      0.67      0.70        12\n",
      "    Personal       0.00      0.00      0.00         3\n",
      "     Updates       0.72      0.86      0.78        21\n",
      "\n",
      "    accuracy                           0.72        36\n",
      "   macro avg       0.48      0.51      0.49        36\n",
      "weighted avg       0.66      0.72      0.69        36\n",
      "\n"
     ]
    },
    {
     "name": "stderr",
     "output_type": "stream",
     "text": [
      "/Users/abigail/.pyenv/versions/3.10.9/lib/python3.10/site-packages/sklearn/metrics/_classification.py:1509: UndefinedMetricWarning: Precision is ill-defined and being set to 0.0 in labels with no predicted samples. Use `zero_division` parameter to control this behavior.\n",
      "  _warn_prf(average, modifier, f\"{metric.capitalize()} is\", len(result))\n",
      "/Users/abigail/.pyenv/versions/3.10.9/lib/python3.10/site-packages/sklearn/metrics/_classification.py:1509: UndefinedMetricWarning: Precision is ill-defined and being set to 0.0 in labels with no predicted samples. Use `zero_division` parameter to control this behavior.\n",
      "  _warn_prf(average, modifier, f\"{metric.capitalize()} is\", len(result))\n",
      "/Users/abigail/.pyenv/versions/3.10.9/lib/python3.10/site-packages/sklearn/metrics/_classification.py:1509: UndefinedMetricWarning: Precision is ill-defined and being set to 0.0 in labels with no predicted samples. Use `zero_division` parameter to control this behavior.\n",
      "  _warn_prf(average, modifier, f\"{metric.capitalize()} is\", len(result))\n"
     ]
    }
   ],
   "source": [
    "# tuning\n",
    "\n",
    "from sklearn.feature_extraction.text import TfidfVectorizer\n",
    "from sklearn.model_selection import train_test_split, GridSearchCV\n",
    "from sklearn.naive_bayes import MultinomialNB\n",
    "from sklearn.metrics import classification_report\n",
    "\n",
    "# Extract features (e.g., Subject and Content) and labels (Category)\n",
    "X = [email['Subject'] + ' ' + email['Content'] for email in preprocessed_emails]\n",
    "y = [email['Category'] for email in preprocessed_emails]\n",
    "\n",
    "# Split the data into training and testing sets\n",
    "train_X, test_X, train_y, test_y = train_test_split(X, y, test_size=0.2, random_state=42)\n",
    "\n",
    "# Vectorize the text data using TF-IDF\n",
    "vectorizer = TfidfVectorizer()\n",
    "X_train_tfidf = vectorizer.fit_transform(train_X)\n",
    "X_test_tfidf = vectorizer.transform(test_X)\n",
    "\n",
    "# Define the parameter grid to search\n",
    "param_grid = {\n",
    "    'alpha': [0.1, 0.5, 1.0, 2.0],  # Values to try for the alpha parameter\n",
    "}\n",
    "\n",
    "# Create the grid search\n",
    "grid_search = GridSearchCV(\n",
    "    estimator=MultinomialNB(),\n",
    "    param_grid=param_grid,\n",
    "    scoring='accuracy', \n",
    "    cv=5,  # 5-fold cross-validation\n",
    "    n_jobs=-1  # Use all available CPU cores\n",
    ")\n",
    "\n",
    "# Perform the grid search\n",
    "grid_search.fit(X_train_tfidf, train_y)\n",
    "\n",
    "# Print the best parameters found\n",
    "print(\"Best Parameters:\", grid_search.best_params_)\n",
    "\n",
    "# Evaluate the model on the test set using the best parameters\n",
    "best_model = grid_search.best_estimator_\n",
    "y_pred = best_model.predict(X_test_tfidf)\n",
    "print(classification_report(test_y, y_pred))\n"
   ]
  },
  {
   "cell_type": "code",
   "execution_count": 10,
   "metadata": {},
   "outputs": [
    {
     "name": "stdout",
     "output_type": "stream",
     "text": [
      "Training Accuracy: 0.9861111111111112\n",
      "Test Accuracy: 0.7777777777777778\n"
     ]
    }
   ],
   "source": [
    "# train vs test accuracy\n",
    "\n",
    "from sklearn.metrics import accuracy_score\n",
    "\n",
    "# Evaluate the best model on the training set\n",
    "train_y_pred = best_model.predict(X_train_tfidf)\n",
    "train_accuracy = accuracy_score(train_y, train_y_pred)\n",
    "\n",
    "# Print the training accuracy\n",
    "print(\"Training Accuracy:\", train_accuracy)\n",
    "\n",
    "# Evaluate the model on the test set using the best parameters\n",
    "test_y_pred = best_model.predict(X_test_tfidf)\n",
    "test_accuracy = accuracy_score(test_y, test_y_pred)\n",
    "\n",
    "# Print the test accuracy\n",
    "print(\"Test Accuracy:\", test_accuracy)\n",
    "\n",
    "# # Print the classification report for the test set\n",
    "# print(classification_report(test_y, test_y_pred))\n"
   ]
  },
  {
   "cell_type": "code",
   "execution_count": 9,
   "metadata": {},
   "outputs": [
    {
     "name": "stdout",
     "output_type": "stream",
     "text": [
      "Best Parameters: {'alpha': 0.1}\n",
      "              precision    recall  f1-score   support\n",
      "\n",
      "   Marketing       0.80      0.80      0.80         5\n",
      "    Personal       0.00      0.00      0.00         2\n",
      "     Updates       0.77      0.91      0.83        11\n",
      "\n",
      "    accuracy                           0.78        18\n",
      "   macro avg       0.52      0.57      0.54        18\n",
      "weighted avg       0.69      0.78      0.73        18\n",
      "\n"
     ]
    },
    {
     "name": "stderr",
     "output_type": "stream",
     "text": [
      "/Users/abigail/.pyenv/versions/3.10.9/lib/python3.10/site-packages/sklearn/metrics/_classification.py:1509: UndefinedMetricWarning: Precision is ill-defined and being set to 0.0 in labels with no predicted samples. Use `zero_division` parameter to control this behavior.\n",
      "  _warn_prf(average, modifier, f\"{metric.capitalize()} is\", len(result))\n",
      "/Users/abigail/.pyenv/versions/3.10.9/lib/python3.10/site-packages/sklearn/metrics/_classification.py:1509: UndefinedMetricWarning: Precision is ill-defined and being set to 0.0 in labels with no predicted samples. Use `zero_division` parameter to control this behavior.\n",
      "  _warn_prf(average, modifier, f\"{metric.capitalize()} is\", len(result))\n",
      "/Users/abigail/.pyenv/versions/3.10.9/lib/python3.10/site-packages/sklearn/metrics/_classification.py:1509: UndefinedMetricWarning: Precision is ill-defined and being set to 0.0 in labels with no predicted samples. Use `zero_division` parameter to control this behavior.\n",
      "  _warn_prf(average, modifier, f\"{metric.capitalize()} is\", len(result))\n"
     ]
    }
   ],
   "source": [
    "# do it again with validation set\n",
    "\n",
    "from sklearn.model_selection import train_test_split\n",
    "\n",
    "# Split the data into training, validation, and test sets\n",
    "train_X, temp_X, train_y, temp_y = train_test_split(X, y, test_size=0.2, random_state=42)\n",
    "val_X, test_X, val_y, test_y = train_test_split(temp_X, temp_y, test_size=0.5, random_state=42)\n",
    "\n",
    "# Vectorize the text data using TF-IDF\n",
    "vectorizer = TfidfVectorizer()\n",
    "X_train_tfidf = vectorizer.fit_transform(train_X)\n",
    "X_val_tfidf = vectorizer.transform(val_X)\n",
    "X_test_tfidf = vectorizer.transform(test_X)\n",
    "\n",
    "# Define the parameter grid to search\n",
    "param_grid = {\n",
    "    'alpha': [0.1, 0.5, 1.0, 2.0],  # Values to try for the alpha parameter\n",
    "    # Add more parameters to tune if needed\n",
    "}\n",
    "\n",
    "# Create the grid search\n",
    "grid_search = GridSearchCV(\n",
    "    estimator=MultinomialNB(),\n",
    "    param_grid=param_grid,\n",
    "    scoring='accuracy',  \n",
    "    cv=5,  # 5-fold cross-validation\n",
    "    n_jobs=-1  # Use all available CPU cores\n",
    ")\n",
    "\n",
    "# Perform the grid search using the training and validation sets\n",
    "grid_search.fit(X_train_tfidf, train_y)\n",
    "\n",
    "# Print the best parameters found\n",
    "print(\"Best Parameters:\", grid_search.best_params_)\n",
    "\n",
    "# Evaluate the best model on the test set\n",
    "best_model = grid_search.best_estimator_\n",
    "test_y_pred = best_model.predict(X_test_tfidf)\n",
    "\n",
    "# Print the classification report for the test set\n",
    "print(classification_report(test_y, test_y_pred))\n"
   ]
  }
 ],
 "metadata": {
  "kernelspec": {
   "display_name": "Python 3",
   "language": "python",
   "name": "python3"
  },
  "language_info": {
   "codemirror_mode": {
    "name": "ipython",
    "version": 3
   },
   "file_extension": ".py",
   "mimetype": "text/x-python",
   "name": "python",
   "nbconvert_exporter": "python",
   "pygments_lexer": "ipython3",
   "version": "3.10.9"
  }
 },
 "nbformat": 4,
 "nbformat_minor": 2
}
